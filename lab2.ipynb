{
  "nbformat": 4,
  "nbformat_minor": 0,
  "metadata": {
    "colab": {
      "provenance": [],
      "authorship_tag": "ABX9TyOuKdhsAmITsRTDpp14d/1A",
      "include_colab_link": true
    },
    "kernelspec": {
      "name": "python3",
      "display_name": "Python 3"
    },
    "language_info": {
      "name": "python"
    }
  },
  "cells": [
    {
      "cell_type": "markdown",
      "metadata": {
        "id": "view-in-github",
        "colab_type": "text"
      },
      "source": [
        "<a href=\"https://colab.research.google.com/github/gusanitor8/Lab2-responsibleAI/blob/main/lab2.ipynb\" target=\"_parent\"><img src=\"https://colab.research.google.com/assets/colab-badge.svg\" alt=\"Open In Colab\"/></a>"
      ]
    },
    {
      "cell_type": "markdown",
      "source": [
        "# ================================================\n",
        "# Laboratorio 2 — Similitud de Coseno\n",
        "# ================================================\n",
        "\n",
        "# Instrucciones\n",
        "1. **Carga de embeddings**  \n",
        "   - Utilizar las representaciones vectoriales preentrenadas (*GloVe 100d*).  \n",
        "   - Verificar que los términos requeridos estén contenidos en el vocabulario.  \n",
        "\n",
        "2. **Cálculo de vectores de expresión**  \n",
        "   - Construir expresiones vectoriales simples mediante operaciones aritméticas (suma, resta).  \n",
        "\n",
        "3. **Medición de similitud**  \n",
        "   - Calcular la similitud de coseno entre los vectores de la expresión y los vectores de referencia.  \n",
        "   - Reportar:  \n",
        "     - Valor de la similitud de coseno.  \n",
        "     - Normas de cada vector (\\(\\|\\mathbf{u}\\|\\)).  \n",
        "\n",
        "4. **Casos de estudio**  \n",
        "   Realizar caso por caso\n",
        "\n",
        "5. **Documentación de resultados**  \n",
        "   - Registrar en el notebook los valores obtenidos de similitud y normas vectoriales para cada caso.  \n",
        "   - Incluir comentarios breves interpretando los resultados.  \n",
        "\n",
        "6. **Conclusiones**  \n",
        "   - Redactar conclusiones **caso por caso** sobre la utilidad de la similitud de coseno."
      ],
      "metadata": {
        "id": "K829MT3tihRq"
      }
    },
    {
      "cell_type": "code",
      "source": [
        "# !pip install gensim\n"
      ],
      "metadata": {
        "colab": {
          "base_uri": "https://localhost:8080/",
          "height": 707
        },
        "id": "kA1RjmuJig8l",
        "outputId": "c8a121c2-2060-430a-e173-e8445aeb4465"
      },
      "execution_count": null,
      "outputs": [
        {
          "output_type": "stream",
          "name": "stdout",
          "text": [
            "Collecting gensim\n",
            "  Downloading gensim-4.3.3-cp312-cp312-manylinux_2_17_x86_64.manylinux2014_x86_64.whl.metadata (8.1 kB)\n",
            "Collecting numpy<2.0,>=1.18.5 (from gensim)\n",
            "  Downloading numpy-1.26.4-cp312-cp312-manylinux_2_17_x86_64.manylinux2014_x86_64.whl.metadata (61 kB)\n",
            "\u001b[2K     \u001b[90m━━━━━━━━━━━━━━━━━━━━━━━━━━━━━━━━━━━━━━━━\u001b[0m \u001b[32m61.0/61.0 kB\u001b[0m \u001b[31m2.1 MB/s\u001b[0m eta \u001b[36m0:00:00\u001b[0m\n",
            "\u001b[?25hCollecting scipy<1.14.0,>=1.7.0 (from gensim)\n",
            "  Downloading scipy-1.13.1-cp312-cp312-manylinux_2_17_x86_64.manylinux2014_x86_64.whl.metadata (60 kB)\n",
            "\u001b[2K     \u001b[90m━━━━━━━━━━━━━━━━━━━━━━━━━━━━━━━━━━━━━━━━\u001b[0m \u001b[32m60.6/60.6 kB\u001b[0m \u001b[31m2.1 MB/s\u001b[0m eta \u001b[36m0:00:00\u001b[0m\n",
            "\u001b[?25hRequirement already satisfied: smart-open>=1.8.1 in /usr/local/lib/python3.12/dist-packages (from gensim) (7.3.0.post1)\n",
            "Requirement already satisfied: wrapt in /usr/local/lib/python3.12/dist-packages (from smart-open>=1.8.1->gensim) (1.17.3)\n",
            "Downloading gensim-4.3.3-cp312-cp312-manylinux_2_17_x86_64.manylinux2014_x86_64.whl (26.6 MB)\n",
            "\u001b[2K   \u001b[90m━━━━━━━━━━━━━━━━━━━━━━━━━━━━━━━━━━━━━━━━\u001b[0m \u001b[32m26.6/26.6 MB\u001b[0m \u001b[31m71.7 MB/s\u001b[0m eta \u001b[36m0:00:00\u001b[0m\n",
            "\u001b[?25hDownloading numpy-1.26.4-cp312-cp312-manylinux_2_17_x86_64.manylinux2014_x86_64.whl (18.0 MB)\n",
            "\u001b[2K   \u001b[90m━━━━━━━━━━━━━━━━━━━━━━━━━━━━━━━━━━━━━━━━\u001b[0m \u001b[32m18.0/18.0 MB\u001b[0m \u001b[31m95.7 MB/s\u001b[0m eta \u001b[36m0:00:00\u001b[0m\n",
            "\u001b[?25hDownloading scipy-1.13.1-cp312-cp312-manylinux_2_17_x86_64.manylinux2014_x86_64.whl (38.2 MB)\n",
            "\u001b[2K   \u001b[90m━━━━━━━━━━━━━━━━━━━━━━━━━━━━━━━━━━━━━━━━\u001b[0m \u001b[32m38.2/38.2 MB\u001b[0m \u001b[31m14.0 MB/s\u001b[0m eta \u001b[36m0:00:00\u001b[0m\n",
            "\u001b[?25hInstalling collected packages: numpy, scipy, gensim\n",
            "  Attempting uninstall: numpy\n",
            "    Found existing installation: numpy 2.0.2\n",
            "    Uninstalling numpy-2.0.2:\n",
            "      Successfully uninstalled numpy-2.0.2\n",
            "  Attempting uninstall: scipy\n",
            "    Found existing installation: scipy 1.16.1\n",
            "    Uninstalling scipy-1.16.1:\n",
            "      Successfully uninstalled scipy-1.16.1\n",
            "\u001b[31mERROR: pip's dependency resolver does not currently take into account all the packages that are installed. This behaviour is the source of the following dependency conflicts.\n",
            "opencv-contrib-python 4.12.0.88 requires numpy<2.3.0,>=2; python_version >= \"3.9\", but you have numpy 1.26.4 which is incompatible.\n",
            "thinc 8.3.6 requires numpy<3.0.0,>=2.0.0, but you have numpy 1.26.4 which is incompatible.\n",
            "opencv-python-headless 4.12.0.88 requires numpy<2.3.0,>=2; python_version >= \"3.9\", but you have numpy 1.26.4 which is incompatible.\n",
            "opencv-python 4.12.0.88 requires numpy<2.3.0,>=2; python_version >= \"3.9\", but you have numpy 1.26.4 which is incompatible.\n",
            "tsfresh 0.21.0 requires scipy>=1.14.0; python_version >= \"3.10\", but you have scipy 1.13.1 which is incompatible.\u001b[0m\u001b[31m\n",
            "\u001b[0mSuccessfully installed gensim-4.3.3 numpy-1.26.4 scipy-1.13.1\n"
          ]
        },
        {
          "output_type": "display_data",
          "data": {
            "application/vnd.colab-display-data+json": {
              "pip_warning": {
                "packages": [
                  "numpy"
                ]
              },
              "id": "7891c64f52614f19875238b38ee71bf6"
            }
          },
          "metadata": {}
        }
      ]
    },
    {
      "cell_type": "code",
      "source": [
        "import numpy as np\n",
        "from typing import List\n",
        "import gensim.downloader as api"
      ],
      "metadata": {
        "id": "uBz_xVt3ioA6"
      },
      "execution_count": null,
      "outputs": []
    },
    {
      "cell_type": "code",
      "source": [
        "# ========= 1) Cargar GloVe 100D =========\n",
        "model = api.load(\"glove-wiki-gigaword-100\")"
      ],
      "metadata": {
        "colab": {
          "base_uri": "https://localhost:8080/"
        },
        "id": "og5wUwj0i7nV",
        "outputId": "ab76d02f-b32e-4d55-dd5f-ce6f3fa9a130"
      },
      "execution_count": null,
      "outputs": [
        {
          "output_type": "stream",
          "name": "stdout",
          "text": [
            "[==================================================] 100.0% 128.1/128.1MB downloaded\n"
          ]
        }
      ]
    },
    {
      "cell_type": "code",
      "source": [
        "# ========= 2) Funciones utilitarias =========\n",
        "def embedding(word: str) -> np.ndarray:\n",
        "    \"\"\"Vector de la palabra (lanza KeyError si no está en vocab).\"\"\"\n",
        "    return model[word]\n",
        "\n",
        "def build_vector(plus: List[str], minus: List[str]) -> np.ndarray:\n",
        "    \"\"\"Suma y resta embeddings explícitamente.\"\"\"\n",
        "    dim = model[next(iter(model.key_to_index))].shape[0]\n",
        "    v = np.zeros(dim, dtype=np.float32)\n",
        "    for w in plus:\n",
        "        if w in model:\n",
        "            v += model[w]\n",
        "        else:\n",
        "            print(f\"[OOV] '{w}' no está en el vocabulario.\")\n",
        "    for w in minus:\n",
        "        if w in model:\n",
        "            v -= model[w]\n",
        "        else:\n",
        "            print(f\"[OOV] '{w}' no está en el vocabulario.\")\n",
        "    return v\n",
        "\n",
        "def cos(a: np.ndarray, b: np.ndarray) -> float:\n",
        "    na, nb = np.linalg.norm(a), np.linalg.norm(b)\n",
        "    if na == 0 or nb == 0:\n",
        "        return float(\"nan\")\n",
        "    return float(np.dot(a, b) / (na * nb))\n",
        "\n",
        "def vec_norm(v: np.ndarray) -> float:\n",
        "    return float(np.linalg.norm(v))\n",
        "\n",
        "def report_case(label, plus, minus, target_plus):\n",
        "    expr_vec   = build_vector(plus, minus)\n",
        "    target_vec = build_vector(target_plus, [])\n",
        "    print(\"====\", label, \"====\")\n",
        "    print(\"Expresión =\", \" + \".join(plus) + \" - \" + \" - \".join(minus) if minus else \" + \".join(plus))\n",
        "    print(\"Target    =\", \" + \".join(target_plus))\n",
        "    print(\"cos(expr, target) =\", round(cos(expr_vec, target_vec), 6))\n",
        "    print(\"||expr||           =\", round(vec_norm(expr_vec), 6))\n",
        "    print(\"||target||         =\", round(vec_norm(target_vec), 6))\n",
        "    print()\n",
        "\n",
        "def nearest_neighbors(plus: List[str], minus: List[str], topn: int = 3):\n",
        "    \"\"\"Encuentra los vecinos más cercanos a una expresión.\"\"\"\n",
        "    expr_vec = build_vector(plus, minus)\n",
        "    results = model.similar_by_vector(expr_vec, topn=topn)\n",
        "    print(\"Vecinos más cercanos para:\", \" + \".join(plus) + (\" - \" + \" - \".join(minus) if minus else \"\"))\n",
        "    for word, score in results:\n",
        "        print(f\"{word:15s} cos = {round(score,6)}\")\n",
        "    print()\n",
        "    return results"
      ],
      "metadata": {
        "id": "WZ_x_k0hjPaS"
      },
      "execution_count": null,
      "outputs": []
    },
    {
      "cell_type": "markdown",
      "source": [
        "## Caso 1 — Capitales\n",
        "\n",
        "Construya un vector que represente la relación:  \n",
        "**paris + italy - france ≈ rome**\n",
        "\n",
        "1. Defina el vector de la expresión (`expr_vec`).  \n",
        "2. Defina el vector objetivo (`target_vec`).  \n",
        "3. Calcule `cos(expr, target)`, `||expr||` y `||target||`.  \n",
        "4. Escriba su conclusión.  "
      ],
      "metadata": {
        "id": "DC12BDpmjQ76"
      }
    },
    {
      "cell_type": "code",
      "source": [
        "# Caso 1 — Capitales\n",
        "report_case(\"Caso 1 — Capitales\", [\"paris\",\"italy\"], [\"france\"], [\"rome\"])\n",
        "\n",
        "# Caso 2 — Dictador/País\n",
        "print(\"==== Caso 2 — Dictador/País ====\")\n",
        "nearest_neighbors([\"hitler\",\"italy\"], [\"germany\"])\n",
        "\n",
        "# Caso 3 — Religión/Líder\n",
        "print(\"==== Caso 3 — Religión/Líder ====\")\n",
        "nearest_neighbors([\"christianity\"], [])\n",
        "\n",
        "# Caso 4 — Opuestos\n",
        "print(\"==== Caso 4 — Opuestos ====\")\n",
        "nearest_neighbors([\"good\"], [\"bad\"])\n",
        "\n",
        "# Caso 5 — Propio (ejemplo clásico)\n",
        "print(\"==== Caso 5 — Propio (king - man + woman) ====\")\n",
        "nearest_neighbors([\"king\",\"woman\"], [\"man\"])"
      ],
      "metadata": {
        "colab": {
          "base_uri": "https://localhost:8080/"
        },
        "id": "UDHzVA1ojSgK",
        "outputId": "2d888c5c-7d8b-4656-db78-5bf60b14da48"
      },
      "execution_count": null,
      "outputs": [
        {
          "output_type": "stream",
          "name": "stdout",
          "text": [
            "==== Caso 1 — Capitales ====\n",
            "Expresión = paris + italy - france\n",
            "Target    = rome\n",
            "cos(expr, target) = 0.8084\n",
            "||expr||           = 6.227801\n",
            "||target||         = 5.523363\n",
            "\n",
            "==== Caso 2 — Dictador/País ====\n",
            "Vecinos más cercanos para: hitler + italy - germany\n",
            "mussolini       cos = 0.816139\n",
            "hitler          cos = 0.715457\n",
            "fascist         cos = 0.66878\n",
            "\n",
            "==== Caso 3 — Religión/Líder ====\n",
            "Vecinos más cercanos para: christianity\n",
            "christianity    cos = 1.0\n",
            "catholicism     cos = 0.875112\n",
            "protestantism   cos = 0.811677\n",
            "\n",
            "==== Caso 4 — Opuestos ====\n",
            "Vecinos más cercanos para: good - bad\n",
            "excellent       cos = 0.522756\n",
            "versatile       cos = 0.459313\n",
            "ideal           cos = 0.457311\n",
            "\n",
            "==== Caso 5 — Propio (king - man + woman) ====\n",
            "Vecinos más cercanos para: king + woman - man\n",
            "king            cos = 0.855184\n",
            "queen           cos = 0.783441\n",
            "monarch         cos = 0.69338\n",
            "\n"
          ]
        },
        {
          "output_type": "execute_result",
          "data": {
            "text/plain": [
              "[('king', 0.8551837205886841),\n",
              " ('queen', 0.7834413647651672),\n",
              " ('monarch', 0.6933801770210266)]"
            ]
          },
          "metadata": {},
          "execution_count": 8
        }
      ]
    },
    {
      "cell_type": "markdown",
      "source": [
        "# Laboratorio 2 — Similitud de Coseno  \n",
        "\n",
        "## Resultados y Conclusiones Caso por Caso  \n",
        "\n",
        "### Caso 1 — Capitales  \n",
        "- **Expresión:** `paris + italy - france`  \n",
        "- **Target:** `rome`  \n",
        "- **Similitud coseno:** 0.8084  \n",
        "- **Normas:**  \n",
        "  - ||expr|| = 6.2278  \n",
        "  - ||target|| = 5.5234  \n",
        "\n",
        "**Interpretación:** El vector resultante se aproxima a *rome*, confirmando que los embeddings capturan la relación capital–país.  \n",
        "\n",
        "**Conclusión:** La similitud de coseno es útil para representar analogías geográficas y encontrar relaciones entre ciudades y países.  \n",
        "\n",
        "---\n",
        "\n",
        "### Caso 2 — Dictador/País  \n",
        "- **Expresión:** `hitler + italy - germany`  \n",
        "- **Vecinos más cercanos:**  \n",
        "  1. mussolini (0.8161)  \n",
        "  2. hitler (0.7155)  \n",
        "  3. fascist (0.6688)  \n",
        "\n",
        "**Interpretación:** *Mussolini* aparece como el vecino más cercano, reflejando una asociación histórica coherente.  \n",
        "\n",
        "**Conclusión:** La similitud de coseno permite descubrir relaciones políticas e históricas, mostrando su utilidad en contextos semánticos más complejos.  \n",
        "\n",
        "---\n",
        "\n",
        "### Caso 3 — Religión/Líder  \n",
        "- **Expresión:** `christianity`  \n",
        "- **Vecinos más cercanos:**  \n",
        "  1. christianity (1.0)  \n",
        "  2. catholicism (0.8751)  \n",
        "  3. protestantism (0.8117)  \n",
        "\n",
        "**Interpretación:** El modelo aproxima *christianity* a religiones afines en lugar de a *jesus*.  \n",
        "\n",
        "**Conclusión:** La similitud de coseno es útil para medir cercanía semántica entre instituciones religiosas, aunque no siempre captura la relación con líderes individuales.  \n",
        "\n",
        "---\n",
        "\n",
        "### Caso 4 — Opuestos  \n",
        "- **Expresión:** `good - bad`  \n",
        "- **Vecinos más cercanos:**  \n",
        "  1. excellent (0.5228)  \n",
        "  2. versatile (0.4593)  \n",
        "  3. ideal (0.4573)  \n",
        "\n",
        "**Interpretación:** El resultado se inclina hacia términos positivos relacionados con *good*, más que hacia un contraste con *bad*.  \n",
        "\n",
        "**Conclusión:** La similitud de coseno es eficaz para medir semejanza semántica, pero limitada para capturar oposiciones directas.  \n",
        "\n",
        "---\n",
        "\n",
        "### Caso 5 — Propio (Analogía género)  \n",
        "- **Expresión:** `king - man + woman`  \n",
        "- **Vecinos más cercanos:**  \n",
        "  1. king (0.8552)  \n",
        "  2. queen (0.7834)  \n",
        "  3. monarch (0.6934)  \n",
        "\n",
        "**Interpretación:** *queen* aparece entre los vecinos más cercanos, confirmando la hipótesis clásica de analogías en embeddings.  \n",
        "\n",
        "**Conclusión:** La similitud de coseno es muy útil para capturar relaciones semánticas complejas, como las analogías de género en títulos reales.  \n"
      ],
      "metadata": {
        "id": "AfbKx28snQNb"
      }
    }
  ]
}